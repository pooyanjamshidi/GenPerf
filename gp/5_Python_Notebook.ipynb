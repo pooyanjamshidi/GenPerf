{
 "cells": [
  {
   "cell_type": "markdown",
   "metadata": {},
   "source": [
    "# Particle Swarm Optimization"
   ]
  },
  {
   "cell_type": "code",
   "execution_count": 1,
   "metadata": {
    "collapsed": false
   },
   "outputs": [],
   "source": [
    "import numpy as np\n",
    "import matplotlib.pyplot as plt\n",
    "%matplotlib inline\n",
    "\n",
    "def objectiveFunction(location):\n",
    "    return (location[0]-15)**2 + (location[1]-20)**2\n",
    "def assessFitness(location):\n",
    "    return 1/objectiveFunction(location) # minimization so we change it to 1/score\n",
    "\n",
    "class Particle:\n",
    "    def __init__(self, location, velocity):\n",
    "        self.location = location\n",
    "        self.velocity = velocity\n",
    "        self.initialize()\n",
    "        \n",
    "\n",
    "    def __init__(self, dimension_x_min, dimension_x_max, dimension_y_min, dimension_y_max):\n",
    "        #Just put a random point within the bounds of the search space\n",
    "        self.location = [np.random.uniform(dimension_x_min,dimension_x_max),np.random.uniform(dimension_y_min,dimension_y_max)]\n",
    "        #Just select two points at random and use half of their distance as the velocity\n",
    "        random_pointA = [np.random.uniform(dimension_x_min,dimension_x_max),np.random.uniform(dimension_y_min,dimension_y_max)]\n",
    "        random_pointB = [np.random.uniform(dimension_x_min,dimension_x_max),np.random.uniform(dimension_y_min,dimension_y_max)]\n",
    "        self.velocity = [(random_pointA[0]-random_pointB[0]/2),(random_pointA[1]-random_pointB[1]/2)]\n",
    "        self.initialize()\n",
    "        \n",
    "    def initialize(self):\n",
    "        self.bestLocation = []\n",
    "        self.bestLocationScore = 0\n",
    "        self.bestLocationInformatants = []\n",
    "        self.bestLocationScoreInformatants = 0\n",
    "        self.bestLocationGlobal = []\n",
    "        self.bestLocationScoreGlobal = 0\n",
    "        self.currentScore = 0\n",
    "    \n",
    "    def getLocation(self):\n",
    "        return self.location\n",
    "    def getScore(self):\n",
    "        return self.currentScore\n",
    "    def getVelocity(self):\n",
    "        return self.velocity\n",
    "    def getSelfBestScore(self):\n",
    "        return self.bestLocationScore\n",
    "    def getSelfBestLocation(self):\n",
    "        return self.bestLocation\n",
    "    def getInformantBestLocation(self):\n",
    "        return self.bestLocationInformants\n",
    "    \n",
    "    #Update position, score, and velocity\n",
    "    def update(self, velocity):\n",
    "        self.location = [sum(x) for x in zip(self.location, velocity)]\n",
    "        self.velocity = velocity\n",
    "\n",
    "    def updateScore(self, score):\n",
    "        #new iteration, so we (optionally) delete the old information of the informants, since we sochastically select new informants\n",
    "        self.bestLocationInformants = []\n",
    "        self.bestLocationScoreInformants = 0\n",
    "        self.currentScore = score\n",
    "        if len(self.bestLocation) == 0 or self.bestLocationScore < score:\n",
    "            self.bestLocation = self.location\n",
    "            self.bestLocationScore = score\n",
    "    \n",
    "    def updateInformant(self, informant):\n",
    "        if len(self.bestLocationInformants) == 0 or self.bestLocationScoreInformants < informant.getSelfBestScore():\n",
    "            self.bestLocationScoreInformants = informant.getSelfBestScore()\n",
    "            self.bestLocationInformants = informant.getLocation()\n",
    "    \n",
    "    def updateGlobalBest(self, bestLocation, bestLocationScore):\n",
    "        if len(self.bestLocationGlobal) == 0 or self.bestLocationScoreGlobal < bestLocationScore:\n",
    "            self.bestLocationScoreGlobal = bestLocationScore\n",
    "            self.bestLocationGlobal = bestLocation\n",
    "            \n",
    "    def printStatistic(self):\n",
    "        print(\"Current location: \", self.location)\n",
    "        print(\"Current score: \", self.currentScore)\n",
    "        print(\"Current velocity: \", self.velocity)\n",
    "        print(\"Current best score: \", self.bestLocationScore)\n",
    "        "
   ]
  },
  {
   "cell_type": "code",
   "execution_count": 2,
   "metadata": {
    "collapsed": false
   },
   "outputs": [],
   "source": [
    "import random\n",
    "def particleSwarmOptimization(swarmsize, alpha=0.8, beta=0.5, gamma=0.5, delta=0.1, epsilon=1, fractionOfInformants=0.1, initial_particles = []):\n",
    "    min_x = 0\n",
    "    max_x = 30\n",
    "    min_y = 0\n",
    "    max_y = 30\n",
    "    history = [] #to visualize the movement of the particles\n",
    "    \n",
    "    #initialize the first particles\n",
    "    particles = initial_particles\n",
    "    if swarmsize > len(initial_particles):\n",
    "        for i in range(swarmsize-len(initial_particles)):\n",
    "            particles.append(Particle(min_x,max_x,min_y,max_y))\n",
    "    bestLocation = []\n",
    "    bestLocationScore = 0\n",
    "    numberOfInformants = max(int(swarmsize*fractionOfInformants),1)\n",
    "    abort = False\n",
    "    iterations = 50\n",
    "    while abort != True:\n",
    "        history.append([x.getLocation() for x in particles])\n",
    "        for particle in particles:\n",
    "            fitness = assessFitness(particle.getLocation())\n",
    "            particle.updateScore(fitness)\n",
    "            if len(bestLocation) == 0 or bestLocationScore < fitness:\n",
    "                bestLocation = particle.getLocation()\n",
    "                bestLocationScore = fitness\n",
    "        \n",
    "        #Update the informants scores of each particle and the global best score\n",
    "        for particle in particles:\n",
    "            for i in range(numberOfInformants):\n",
    "                # Prevent that we use ourself as an informant\n",
    "                while True:\n",
    "                    informantIndex = random.randint(0,swarmsize-1)\n",
    "                    if i != informantIndex:\n",
    "                        particle.updateInformant(particles[informantIndex])\n",
    "                        break\n",
    "            particle.updateGlobalBest(bestLocation, bestLocationScore)\n",
    "            new_velocity = []\n",
    "            old_velocity = particle.getVelocity()\n",
    "            old_location = particle.getLocation()\n",
    "            for i in range(len(old_location)):#for each dimension of the particle\n",
    "                b = np.random.uniform(0,beta)\n",
    "                c = np.random.uniform(0,gamma)\n",
    "                d = np.random.uniform(0,delta)\n",
    "                termA = old_velocity[i]*alpha\n",
    "                termB = b*(particle.getSelfBestLocation()[i]-old_location[i])\n",
    "                termC = c*(particle.getInformantBestLocation()[i]-old_location[i])\n",
    "                termD = d*(bestLocation[i]-old_location[i])\n",
    "                new_velocity.append(epsilon*(old_velocity[i]*alpha + b*(particle.getSelfBestLocation()[i]-old_location[i]) + \n",
    "                                   c*(particle.getInformantBestLocation()[i]-old_location[i]) + d*(bestLocation[i]-old_location[i])))\n",
    "            particle.update(new_velocity)\n",
    "        iterations = iterations -1\n",
    "        if iterations <= 0:\n",
    "            abort = True\n",
    "    return bestLocation, bestLocationScore, history"
   ]
  },
  {
   "cell_type": "code",
   "execution_count": 3,
   "metadata": {
    "collapsed": false
   },
   "outputs": [
    {
     "name": "stdout",
     "output_type": "stream",
     "text": [
      "[15.098018860500845, 19.867512171543346]   36.81787291712245\n"
     ]
    }
   ],
   "source": [
    "loc, score, history = particleSwarmOptimization(4)\n",
    "print(loc, \" \", score)"
   ]
  },
  {
   "cell_type": "code",
   "execution_count": 4,
   "metadata": {
    "collapsed": false
   },
   "outputs": [
    {
     "data": {
      "image/png": "[encoded data removed]",
      "text/plain": [
       "<matplotlib.figure.Figure at 0x1c5a41028d0>"
      ]
     },
     "metadata": {},
     "output_type": "display_data"
    }
   ],
   "source": [
    "from IPython import display\n",
    "import time\n",
    "import matplotlib as mpl\n",
    "import matplotlib.cm as cm\n",
    "\n",
    "def plotParticleMovement(ax, particles, iteration):\n",
    "    x, y = zip(*particles)\n",
    "    cm = plt.cm.get_cmap('RdYlBu')\n",
    "    norm = mpl.colors.Normalize(vmin=0, vmax=50)\n",
    "    if ax.lines:\n",
    "        #ax.lines[1]\n",
    "        ax.lines[1].set_xdata(x)\n",
    "        #y = [black_box1D(solution)]\n",
    "        ax.lines[1].set_ydata(y)\n",
    "        #ax.lines[2].set_xdata(best)\n",
    "        #y = [black_box1D(best)]\n",
    "        #ax.lines[2].set_ydata(y)\n",
    "    else:\n",
    "        x_optimum = 15\n",
    "        y_optimum = 20\n",
    "        print(norm(iteration))\n",
    "        ax.scatter(x_optimum, y_optimum, s=10, c='r')\n",
    "        #for particle in particles:\n",
    "        ax.scatter(x, y, s=5, c=str(norm(iteration)), cmap=cm)\n",
    "    fig.canvas.draw()\n",
    "    display.display(plt.gcf())\n",
    "    display.clear_output(wait=True)\n",
    "\n",
    "\n",
    "plt.ion()        \n",
    "fig,ax = plt.subplots(1,1)\n",
    "plt.xlabel('x')\n",
    "plt.ylabel('y')\n",
    "plt.xlim(0, 30)\n",
    "plt.ylim(0, 30)\n",
    "#plt.colorbar()\n",
    "#plt.title('1-D ground truth with markers showing the path of simulated annealing')\n",
    "i = 0\n",
    "for particles in history:\n",
    "    plotParticleMovement(ax, particles, i)\n",
    "    time.sleep(0.2)\n",
    "    i = i + 1"
   ]
  },
  {
   "cell_type": "code",
   "execution_count": null,
   "metadata": {
    "collapsed": true
   },
   "outputs": [],
   "source": []
  }
 ],
 "metadata": {
  "anaconda-cloud": {},
  "kernelspec": {
   "display_name": "Python [default]",
   "language": "python",
   "name": "python3"
  },
  "language_info": {
   "codemirror_mode": {
    "name": "ipython",
    "version": 3
   },
   "file_extension": ".py",
   "mimetype": "text/x-python",
   "name": "python",
   "nbconvert_exporter": "python",
   "pygments_lexer": "ipython3",
   "version": "3.5.2"
  }
 },
 "nbformat": 4,
 "nbformat_minor": 1
}
